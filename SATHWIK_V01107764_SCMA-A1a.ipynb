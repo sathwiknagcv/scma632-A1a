{
 "cells": [
  {
   "cell_type": "code",
   "execution_count": 10,
   "id": "0532a361",
   "metadata": {
    "ExecuteTime": {
     "end_time": "2024-06-16T10:15:49.396620Z",
     "start_time": "2024-06-16T10:15:47.995969Z"
    }
   },
   "outputs": [],
   "source": [
    "import os, pandas as pd, numpy as np"
   ]
  },
  {
   "cell_type": "code",
   "execution_count": 13,
   "id": "fd3e9cd0",
   "metadata": {
    "ExecuteTime": {
     "end_time": "2024-06-16T10:15:50.841477Z",
     "start_time": "2024-06-16T10:15:50.836891Z"
    }
   },
   "outputs": [],
   "source": [
    "os.chdir(\"C:\\\\Users\\\\Admin\\\\Downloads\\\\Bootcamp Assignement\\\\A1a\")"
   ]
  },
  {
   "cell_type": "code",
   "execution_count": 14,
   "id": "2c7b48a8",
   "metadata": {
    "ExecuteTime": {
     "end_time": "2024-06-16T10:16:04.084743Z",
     "start_time": "2024-06-16T10:15:52.236332Z"
    }
   },
   "outputs": [],
   "source": [
    "df=pd.read_csv(\"NSSO68.csv\",encoding=\"Latin-1\", low_memory=False)"
   ]
  },
  {
   "cell_type": "code",
   "execution_count": 15,
   "id": "550bbf03",
   "metadata": {
    "ExecuteTime": {
     "end_time": "2024-06-16T10:16:05.280199Z",
     "start_time": "2024-06-16T10:16:05.210652Z"
    }
   },
   "outputs": [
    {
     "data": {
      "text/html": [
       "<div>\n",
       "<style scoped>\n",
       "    .dataframe tbody tr th:only-of-type {\n",
       "        vertical-align: middle;\n",
       "    }\n",
       "\n",
       "    .dataframe tbody tr th {\n",
       "        vertical-align: top;\n",
       "    }\n",
       "\n",
       "    .dataframe thead th {\n",
       "        text-align: right;\n",
       "    }\n",
       "</style>\n",
       "<table border=\"1\" class=\"dataframe\">\n",
       "  <thead>\n",
       "    <tr style=\"text-align: right;\">\n",
       "      <th></th>\n",
       "      <th>slno</th>\n",
       "      <th>grp</th>\n",
       "      <th>Round_Centre</th>\n",
       "      <th>FSU_number</th>\n",
       "      <th>Round</th>\n",
       "      <th>Schedule_Number</th>\n",
       "      <th>Sample</th>\n",
       "      <th>Sector</th>\n",
       "      <th>state</th>\n",
       "      <th>State_Region</th>\n",
       "      <th>...</th>\n",
       "      <th>pickle_v</th>\n",
       "      <th>sauce_jam_v</th>\n",
       "      <th>Othrprocessed_v</th>\n",
       "      <th>Beveragestotal_v</th>\n",
       "      <th>foodtotal_v</th>\n",
       "      <th>foodtotal_q</th>\n",
       "      <th>state_1</th>\n",
       "      <th>Region</th>\n",
       "      <th>fruits_df_tt_v</th>\n",
       "      <th>fv_tot</th>\n",
       "    </tr>\n",
       "  </thead>\n",
       "  <tbody>\n",
       "    <tr>\n",
       "      <th>0</th>\n",
       "      <td>1</td>\n",
       "      <td>4.10E+31</td>\n",
       "      <td>1</td>\n",
       "      <td>41000</td>\n",
       "      <td>68</td>\n",
       "      <td>10</td>\n",
       "      <td>1</td>\n",
       "      <td>2</td>\n",
       "      <td>24</td>\n",
       "      <td>242</td>\n",
       "      <td>...</td>\n",
       "      <td>0.0</td>\n",
       "      <td>0.0</td>\n",
       "      <td>0.0</td>\n",
       "      <td>0.000000</td>\n",
       "      <td>1141.492400</td>\n",
       "      <td>30.942394</td>\n",
       "      <td>GUJ</td>\n",
       "      <td>2</td>\n",
       "      <td>12.000000</td>\n",
       "      <td>154.18</td>\n",
       "    </tr>\n",
       "    <tr>\n",
       "      <th>1</th>\n",
       "      <td>2</td>\n",
       "      <td>4.10E+31</td>\n",
       "      <td>1</td>\n",
       "      <td>41000</td>\n",
       "      <td>68</td>\n",
       "      <td>10</td>\n",
       "      <td>1</td>\n",
       "      <td>2</td>\n",
       "      <td>24</td>\n",
       "      <td>242</td>\n",
       "      <td>...</td>\n",
       "      <td>0.0</td>\n",
       "      <td>0.0</td>\n",
       "      <td>0.0</td>\n",
       "      <td>17.500000</td>\n",
       "      <td>1244.553500</td>\n",
       "      <td>29.286153</td>\n",
       "      <td>GUJ</td>\n",
       "      <td>2</td>\n",
       "      <td>333.000000</td>\n",
       "      <td>484.95</td>\n",
       "    </tr>\n",
       "    <tr>\n",
       "      <th>2</th>\n",
       "      <td>3</td>\n",
       "      <td>4.10E+31</td>\n",
       "      <td>1</td>\n",
       "      <td>41000</td>\n",
       "      <td>68</td>\n",
       "      <td>10</td>\n",
       "      <td>1</td>\n",
       "      <td>2</td>\n",
       "      <td>24</td>\n",
       "      <td>242</td>\n",
       "      <td>...</td>\n",
       "      <td>0.0</td>\n",
       "      <td>0.0</td>\n",
       "      <td>0.0</td>\n",
       "      <td>0.000000</td>\n",
       "      <td>1050.315400</td>\n",
       "      <td>31.527046</td>\n",
       "      <td>GUJ</td>\n",
       "      <td>2</td>\n",
       "      <td>35.000000</td>\n",
       "      <td>214.84</td>\n",
       "    </tr>\n",
       "    <tr>\n",
       "      <th>3</th>\n",
       "      <td>4</td>\n",
       "      <td>4.10E+31</td>\n",
       "      <td>1</td>\n",
       "      <td>41000</td>\n",
       "      <td>68</td>\n",
       "      <td>10</td>\n",
       "      <td>1</td>\n",
       "      <td>2</td>\n",
       "      <td>24</td>\n",
       "      <td>242</td>\n",
       "      <td>...</td>\n",
       "      <td>0.0</td>\n",
       "      <td>0.0</td>\n",
       "      <td>0.0</td>\n",
       "      <td>33.333333</td>\n",
       "      <td>1142.591667</td>\n",
       "      <td>27.834607</td>\n",
       "      <td>GUJ</td>\n",
       "      <td>2</td>\n",
       "      <td>168.333333</td>\n",
       "      <td>302.30</td>\n",
       "    </tr>\n",
       "    <tr>\n",
       "      <th>4</th>\n",
       "      <td>5</td>\n",
       "      <td>4.10E+31</td>\n",
       "      <td>1</td>\n",
       "      <td>41000</td>\n",
       "      <td>68</td>\n",
       "      <td>10</td>\n",
       "      <td>1</td>\n",
       "      <td>2</td>\n",
       "      <td>24</td>\n",
       "      <td>242</td>\n",
       "      <td>...</td>\n",
       "      <td>0.0</td>\n",
       "      <td>0.0</td>\n",
       "      <td>0.0</td>\n",
       "      <td>75.000000</td>\n",
       "      <td>945.249500</td>\n",
       "      <td>27.600713</td>\n",
       "      <td>GUJ</td>\n",
       "      <td>2</td>\n",
       "      <td>15.000000</td>\n",
       "      <td>148.00</td>\n",
       "    </tr>\n",
       "  </tbody>\n",
       "</table>\n",
       "<p>5 rows × 384 columns</p>\n",
       "</div>"
      ],
      "text/plain": [
       "   slno       grp  Round_Centre  FSU_number  Round  Schedule_Number  Sample  \\\n",
       "0     1  4.10E+31             1       41000     68               10       1   \n",
       "1     2  4.10E+31             1       41000     68               10       1   \n",
       "2     3  4.10E+31             1       41000     68               10       1   \n",
       "3     4  4.10E+31             1       41000     68               10       1   \n",
       "4     5  4.10E+31             1       41000     68               10       1   \n",
       "\n",
       "   Sector  state  State_Region  ...  pickle_v  sauce_jam_v  Othrprocessed_v  \\\n",
       "0       2     24           242  ...       0.0          0.0              0.0   \n",
       "1       2     24           242  ...       0.0          0.0              0.0   \n",
       "2       2     24           242  ...       0.0          0.0              0.0   \n",
       "3       2     24           242  ...       0.0          0.0              0.0   \n",
       "4       2     24           242  ...       0.0          0.0              0.0   \n",
       "\n",
       "   Beveragestotal_v  foodtotal_v  foodtotal_q  state_1  Region  \\\n",
       "0          0.000000  1141.492400    30.942394      GUJ       2   \n",
       "1         17.500000  1244.553500    29.286153      GUJ       2   \n",
       "2          0.000000  1050.315400    31.527046      GUJ       2   \n",
       "3         33.333333  1142.591667    27.834607      GUJ       2   \n",
       "4         75.000000   945.249500    27.600713      GUJ       2   \n",
       "\n",
       "   fruits_df_tt_v  fv_tot  \n",
       "0       12.000000  154.18  \n",
       "1      333.000000  484.95  \n",
       "2       35.000000  214.84  \n",
       "3      168.333333  302.30  \n",
       "4       15.000000  148.00  \n",
       "\n",
       "[5 rows x 384 columns]"
      ]
     },
     "execution_count": 15,
     "metadata": {},
     "output_type": "execute_result"
    }
   ],
   "source": [
    "df.head()"
   ]
  },
  {
   "cell_type": "code",
   "execution_count": 17,
   "id": "2d35a4db",
   "metadata": {
    "ExecuteTime": {
     "end_time": "2024-06-16T10:16:09.802843Z",
     "start_time": "2024-06-16T10:16:09.648192Z"
    }
   },
   "outputs": [],
   "source": [
    "GA = df[df['state_1']==\"GOA\"]"
   ]
  },
  {
   "cell_type": "code",
   "execution_count": 18,
   "id": "32725550",
   "metadata": {
    "ExecuteTime": {
     "end_time": "2024-06-16T10:16:11.812225Z",
     "start_time": "2024-06-16T10:16:11.783885Z"
    }
   },
   "outputs": [
    {
     "data": {
      "text/plain": [
       "soyabean_q          447\n",
       "Meals_School        447\n",
       "soyabean_v          447\n",
       "Meals_Others        445\n",
       "Days_Stayed_away    442\n",
       "                   ... \n",
       "brinjal_q             0\n",
       "tamato_q              0\n",
       "onion_q               0\n",
       "potato_q              0\n",
       "fv_tot                0\n",
       "Length: 384, dtype: int64"
      ]
     },
     "execution_count": 18,
     "metadata": {},
     "output_type": "execute_result"
    }
   ],
   "source": [
    "GA.isnull().sum().sort_values(ascending = False)"
   ]
  },
  {
   "cell_type": "code",
   "execution_count": 19,
   "id": "e4792270",
   "metadata": {
    "ExecuteTime": {
     "end_time": "2024-06-16T10:16:13.989311Z",
     "start_time": "2024-06-16T10:16:13.983296Z"
    }
   },
   "outputs": [
    {
     "data": {
      "text/plain": [
       "Index(['slno', 'grp', 'Round_Centre', 'FSU_number', 'Round', 'Schedule_Number',\n",
       "       'Sample', 'Sector', 'state', 'State_Region',\n",
       "       ...\n",
       "       'pickle_v', 'sauce_jam_v', 'Othrprocessed_v', 'Beveragestotal_v',\n",
       "       'foodtotal_v', 'foodtotal_q', 'state_1', 'Region', 'fruits_df_tt_v',\n",
       "       'fv_tot'],\n",
       "      dtype='object', length=384)"
      ]
     },
     "execution_count": 19,
     "metadata": {},
     "output_type": "execute_result"
    }
   ],
   "source": [
    "df.columns"
   ]
  },
  {
   "cell_type": "code",
   "execution_count": 20,
   "id": "995fbd7d",
   "metadata": {
    "ExecuteTime": {
     "end_time": "2024-06-16T10:20:50.710568Z",
     "start_time": "2024-06-16T10:20:50.703352Z"
    }
   },
   "outputs": [],
   "source": [
    "GA_new = GA[['state_1', 'District', 'Sector','Region','State_Region','ricetotal_q','wheattotal_q','moong_q','Milktotal_q','chicken_q','bread_q','foodtotal_q','Beveragestotal_v','fishprawn_q','Meals_At_Home']]"
   ]
  },
  {
   "cell_type": "code",
   "execution_count": 21,
   "id": "c51a30c5",
   "metadata": {
    "ExecuteTime": {
     "end_time": "2024-06-16T10:20:51.924641Z",
     "start_time": "2024-06-16T10:20:51.915336Z"
    }
   },
   "outputs": [
    {
     "data": {
      "text/plain": [
       "Meals_At_Home       2\n",
       "state_1             0\n",
       "District            0\n",
       "Sector              0\n",
       "Region              0\n",
       "State_Region        0\n",
       "ricetotal_q         0\n",
       "wheattotal_q        0\n",
       "moong_q             0\n",
       "Milktotal_q         0\n",
       "chicken_q           0\n",
       "bread_q             0\n",
       "foodtotal_q         0\n",
       "Beveragestotal_v    0\n",
       "fishprawn_q         0\n",
       "dtype: int64"
      ]
     },
     "execution_count": 21,
     "metadata": {},
     "output_type": "execute_result"
    }
   ],
   "source": [
    "GA_new.isnull().sum().sort_values(ascending = False)"
   ]
  },
  {
   "cell_type": "code",
   "execution_count": 22,
   "id": "42af1fb2",
   "metadata": {
    "ExecuteTime": {
     "end_time": "2024-06-16T10:20:53.377364Z",
     "start_time": "2024-06-16T10:20:53.372637Z"
    }
   },
   "outputs": [],
   "source": [
    "GA_clean =GA_new.copy()"
   ]
  },
  {
   "cell_type": "code",
   "execution_count": 23,
   "id": "72563526",
   "metadata": {
    "ExecuteTime": {
     "end_time": "2024-06-16T10:20:56.084026Z",
     "start_time": "2024-06-16T10:20:56.078287Z"
    }
   },
   "outputs": [],
   "source": [
    "GA_clean.loc[:, 'Meals_At_Home'] = GA_clean['Meals_At_Home'].fillna(GA_new['Meals_At_Home'].mean())"
   ]
  },
  {
   "cell_type": "code",
   "execution_count": 24,
   "id": "5330a3c9",
   "metadata": {
    "ExecuteTime": {
     "end_time": "2024-06-16T10:21:00.719814Z",
     "start_time": "2024-06-16T10:21:00.711639Z"
    }
   },
   "outputs": [
    {
     "data": {
      "text/plain": [
       "state_1             False\n",
       "District            False\n",
       "Sector              False\n",
       "Region              False\n",
       "State_Region        False\n",
       "ricetotal_q         False\n",
       "wheattotal_q        False\n",
       "moong_q             False\n",
       "Milktotal_q         False\n",
       "chicken_q           False\n",
       "bread_q             False\n",
       "foodtotal_q         False\n",
       "Beveragestotal_v    False\n",
       "fishprawn_q         False\n",
       "Meals_At_Home       False\n",
       "dtype: bool"
      ]
     },
     "execution_count": 24,
     "metadata": {},
     "output_type": "execute_result"
    }
   ],
   "source": [
    "GA_clean.isnull().any()"
   ]
  },
  {
   "cell_type": "code",
   "execution_count": 19,
   "id": "7c188e84",
   "metadata": {
    "ExecuteTime": {
     "end_time": "2024-06-16T04:25:21.294749Z",
     "start_time": "2024-06-16T04:25:21.291497Z"
    }
   },
   "outputs": [],
   "source": [
    "# Outlier Checking"
   ]
  },
  {
   "cell_type": "code",
   "execution_count": 26,
   "id": "53723eaa",
   "metadata": {
    "ExecuteTime": {
     "end_time": "2024-06-16T10:22:13.080162Z",
     "start_time": "2024-06-16T10:22:12.710152Z"
    }
   },
   "outputs": [
    {
     "data": {
      "image/png": "[encoded data removed]",
      "text/plain": [
       "<Figure size 800x600 with 1 Axes>"
      ]
     },
     "metadata": {},
     "output_type": "display_data"
    }
   ],
   "source": [
    "import matplotlib.pyplot as plt\n",
    "# Assuming GA_clean is your DataFrame\n",
    "plt.figure(figsize=(8, 6))\n",
    "plt.boxplot(GA_clean['ricetotal_q'])\n",
    "plt.xlabel('ricetotal_q')\n",
    "plt.ylabel('Values')\n",
    "plt.title('Boxplot of ricetotal_q')\n",
    "plt.show()"
   ]
  },
  {
   "cell_type": "code",
   "execution_count": 27,
   "id": "7c5fe0e4",
   "metadata": {},
   "outputs": [
    {
     "data": {
      "image/png": "[encoded data removed]",
      "text/plain": [
       "<Figure size 800x600 with 1 Axes>"
      ]
     },
     "metadata": {},
     "output_type": "display_data"
    }
   ],
   "source": [
    "import matplotlib.pyplot as plt\n",
    "# Assuming GA_clean is your DataFrame\n",
    "plt.figure(figsize=(8, 6))\n",
    "plt.boxplot(GA_clean['fishprawn_q'])\n",
    "plt.xlabel('fishprawn_q')\n",
    "plt.ylabel('Values')\n",
    "plt.title('Boxplot of fishprawn_q')\n",
    "plt.show()"
   ]
  },
  {
   "cell_type": "code",
   "execution_count": 29,
   "id": "adbfd8ac",
   "metadata": {
    "ExecuteTime": {
     "end_time": "2024-06-16T10:22:31.063124Z",
     "start_time": "2024-06-16T10:22:31.055234Z"
    }
   },
   "outputs": [],
   "source": [
    "rice1 = GA_clean['ricetotal_q'].quantile(0.25)\n",
    "rice2 = GA_clean['ricetotal_q'].quantile(0.75)\n",
    "iqr_rice = rice2-rice1\n",
    "up_limit = rice2 + 1.5*iqr_rice\n",
    "low_limit = rice1 - 1.5*iqr_rice"
   ]
  },
  {
   "cell_type": "code",
   "execution_count": 30,
   "id": "0ae50df0",
   "metadata": {
    "ExecuteTime": {
     "end_time": "2024-06-16T10:22:43.643572Z",
     "start_time": "2024-06-16T10:22:43.634294Z"
    }
   },
   "outputs": [],
   "source": [
    "GA_clean=GA_new[(GA_new['ricetotal_q']<=up_limit)&(GA_new['ricetotal_q']>=low_limit)]"
   ]
  },
  {
   "cell_type": "code",
   "execution_count": 33,
   "id": "bb56d36d",
   "metadata": {
    "ExecuteTime": {
     "end_time": "2024-06-16T10:23:15.268648Z",
     "start_time": "2024-06-16T10:23:15.119902Z"
    }
   },
   "outputs": [
    {
     "data": {
      "text/plain": [
       "{'whiskers': [<matplotlib.lines.Line2D at 0x2a48e55a250>,\n",
       "  <matplotlib.lines.Line2D at 0x2a48e55af10>],\n",
       " 'caps': [<matplotlib.lines.Line2D at 0x2a48e55b3d0>,\n",
       "  <matplotlib.lines.Line2D at 0x2a48e568a10>],\n",
       " 'boxes': [<matplotlib.lines.Line2D at 0x2a48e559890>],\n",
       " 'medians': [<matplotlib.lines.Line2D at 0x2a48e5686d0>],\n",
       " 'fliers': [<matplotlib.lines.Line2D at 0x2a48e569010>],\n",
       " 'means': []}"
      ]
     },
     "execution_count": 33,
     "metadata": {},
     "output_type": "execute_result"
    },
    {
     "data": {
      "image/png": "[encoded data removed]",
      "text/plain": [
       "<Figure size 640x480 with 1 Axes>"
      ]
     },
     "metadata": {},
     "output_type": "display_data"
    }
   ],
   "source": [
    "plt.boxplot(GA_clean['ricetotal_q'])"
   ]
  },
  {
   "cell_type": "code",
   "execution_count": 34,
   "id": "87a6aef8",
   "metadata": {},
   "outputs": [],
   "source": [
    "FP1 = GA_clean['fishprawn_q'].quantile(0.25)\n",
    "FP2 = GA_clean['fishprawn_q'].quantile(0.75)\n",
    "iqr_FP = FP2-FP1\n",
    "up_limit = FP2 + 1.5*iqr_FP\n",
    "low_limit = FP1 - 1.5*iqr_FP"
   ]
  },
  {
   "cell_type": "code",
   "execution_count": 35,
   "id": "f79d8e41",
   "metadata": {},
   "outputs": [],
   "source": [
    "GA_clean=GA_new[(GA_new['fishprawn_q']<=up_limit)&(GA_new['fishprawn_q']>=low_limit)]"
   ]
  },
  {
   "cell_type": "code",
   "execution_count": 36,
   "id": "51ee8c98",
   "metadata": {},
   "outputs": [
    {
     "data": {
      "text/plain": [
       "{'whiskers': [<matplotlib.lines.Line2D at 0x2a48e5ddb90>,\n",
       "  <matplotlib.lines.Line2D at 0x2a48e5b2950>],\n",
       " 'caps': [<matplotlib.lines.Line2D at 0x2a48e534ed0>,\n",
       "  <matplotlib.lines.Line2D at 0x2a4f8f837d0>],\n",
       " 'boxes': [<matplotlib.lines.Line2D at 0x2a48e5dced0>],\n",
       " 'medians': [<matplotlib.lines.Line2D at 0x2a48da7fd10>],\n",
       " 'fliers': [<matplotlib.lines.Line2D at 0x2a48da7ccd0>],\n",
       " 'means': []}"
      ]
     },
     "execution_count": 36,
     "metadata": {},
     "output_type": "execute_result"
    },
    {
     "data": {
      "image/png": "[encoded data removed]",
      "text/plain": [
       "<Figure size 640x480 with 1 Axes>"
      ]
     },
     "metadata": {},
     "output_type": "display_data"
    }
   ],
   "source": [
    "plt.boxplot(GA_clean['fishprawn_q'])"
   ]
  },
  {
   "cell_type": "code",
   "execution_count": 39,
   "id": "60373275",
   "metadata": {
    "ExecuteTime": {
     "end_time": "2024-06-16T10:23:19.022374Z",
     "start_time": "2024-06-16T10:23:19.011587Z"
    }
   },
   "outputs": [
    {
     "data": {
      "text/plain": [
       "array([2, 1], dtype=int64)"
      ]
     },
     "execution_count": 39,
     "metadata": {},
     "output_type": "execute_result"
    }
   ],
   "source": [
    "GA_clean['District'].unique()"
   ]
  },
  {
   "cell_type": "code",
   "execution_count": 40,
   "id": "37cdeaa5",
   "metadata": {
    "ExecuteTime": {
     "end_time": "2024-06-16T10:23:21.044003Z",
     "start_time": "2024-06-16T10:23:21.036312Z"
    }
   },
   "outputs": [],
   "source": [
    "# Replace values in the 'Sector' column\n",
    "GA_clean.loc[:,'Sector'] = GA_clean['Sector'].replace([1, 2], ['URBAN', 'RURAL'])"
   ]
  },
  {
   "cell_type": "code",
   "execution_count": 41,
   "id": "4338bcd0",
   "metadata": {
    "ExecuteTime": {
     "end_time": "2024-06-16T04:29:12.691488Z",
     "start_time": "2024-06-16T04:29:12.688111Z"
    }
   },
   "outputs": [],
   "source": [
    "#total consumption"
   ]
  },
  {
   "cell_type": "code",
   "execution_count": 42,
   "id": "97703b81",
   "metadata": {
    "ExecuteTime": {
     "end_time": "2024-06-16T10:23:35.351538Z",
     "start_time": "2024-06-16T10:23:35.346912Z"
    }
   },
   "outputs": [
    {
     "data": {
      "text/plain": [
       "Index(['state_1', 'District', 'Sector', 'Region', 'State_Region',\n",
       "       'ricetotal_q', 'wheattotal_q', 'moong_q', 'Milktotal_q', 'chicken_q',\n",
       "       'bread_q', 'foodtotal_q', 'Beveragestotal_v', 'fishprawn_q',\n",
       "       'Meals_At_Home'],\n",
       "      dtype='object')"
      ]
     },
     "execution_count": 42,
     "metadata": {},
     "output_type": "execute_result"
    }
   ],
   "source": [
    "GA_clean.columns"
   ]
  },
  {
   "cell_type": "code",
   "execution_count": 43,
   "id": "5907b983",
   "metadata": {
    "ExecuteTime": {
     "end_time": "2024-06-16T10:24:00.625661Z",
     "start_time": "2024-06-16T10:24:00.615361Z"
    },
    "scrolled": true
   },
   "outputs": [
    {
     "name": "stderr",
     "output_type": "stream",
     "text": [
      "C:\\Users\\Admin\\AppData\\Local\\Temp\\ipykernel_3344\\446438552.py:1: SettingWithCopyWarning: \n",
      "A value is trying to be set on a copy of a slice from a DataFrame.\n",
      "Try using .loc[row_indexer,col_indexer] = value instead\n",
      "\n",
      "See the caveats in the documentation: https://pandas.pydata.org/pandas-docs/stable/user_guide/indexing.html#returning-a-view-versus-a-copy\n",
      "  GA_clean.loc[:, 'total_consumption'] = GA_clean[['ricetotal_q', 'wheattotal_q', 'moong_q', 'Milktotal_q', 'chicken_q', 'bread_q', 'fishprawn_q','foodtotal_q', 'Beveragestotal_v']].sum(axis=1)\n"
     ]
    }
   ],
   "source": [
    "GA_clean.loc[:, 'total_consumption'] = GA_clean[['ricetotal_q', 'wheattotal_q', 'moong_q', 'Milktotal_q', 'chicken_q', 'bread_q', 'fishprawn_q','foodtotal_q', 'Beveragestotal_v']].sum(axis=1)"
   ]
  },
  {
   "cell_type": "code",
   "execution_count": 44,
   "id": "08face5f",
   "metadata": {
    "ExecuteTime": {
     "end_time": "2024-06-16T10:24:02.553328Z",
     "start_time": "2024-06-16T10:24:02.537298Z"
    }
   },
   "outputs": [
    {
     "data": {
      "text/html": [
       "<div>\n",
       "<style scoped>\n",
       "    .dataframe tbody tr th:only-of-type {\n",
       "        vertical-align: middle;\n",
       "    }\n",
       "\n",
       "    .dataframe tbody tr th {\n",
       "        vertical-align: top;\n",
       "    }\n",
       "\n",
       "    .dataframe thead th {\n",
       "        text-align: right;\n",
       "    }\n",
       "</style>\n",
       "<table border=\"1\" class=\"dataframe\">\n",
       "  <thead>\n",
       "    <tr style=\"text-align: right;\">\n",
       "      <th></th>\n",
       "      <th>state_1</th>\n",
       "      <th>District</th>\n",
       "      <th>Sector</th>\n",
       "      <th>Region</th>\n",
       "      <th>State_Region</th>\n",
       "      <th>ricetotal_q</th>\n",
       "      <th>wheattotal_q</th>\n",
       "      <th>moong_q</th>\n",
       "      <th>Milktotal_q</th>\n",
       "      <th>chicken_q</th>\n",
       "      <th>bread_q</th>\n",
       "      <th>foodtotal_q</th>\n",
       "      <th>Beveragestotal_v</th>\n",
       "      <th>fishprawn_q</th>\n",
       "      <th>Meals_At_Home</th>\n",
       "      <th>total_consumption</th>\n",
       "    </tr>\n",
       "  </thead>\n",
       "  <tbody>\n",
       "    <tr>\n",
       "      <th>22949</th>\n",
       "      <td>GOA</td>\n",
       "      <td>2</td>\n",
       "      <td>RURAL</td>\n",
       "      <td>1</td>\n",
       "      <td>301</td>\n",
       "      <td>7.500000</td>\n",
       "      <td>0.75</td>\n",
       "      <td>0.000000</td>\n",
       "      <td>0</td>\n",
       "      <td>1.0</td>\n",
       "      <td>0.25</td>\n",
       "      <td>26.850600</td>\n",
       "      <td>85.014500</td>\n",
       "      <td>0.750000</td>\n",
       "      <td>58.0</td>\n",
       "      <td>122.115100</td>\n",
       "    </tr>\n",
       "    <tr>\n",
       "      <th>22950</th>\n",
       "      <td>GOA</td>\n",
       "      <td>2</td>\n",
       "      <td>RURAL</td>\n",
       "      <td>1</td>\n",
       "      <td>301</td>\n",
       "      <td>7.500000</td>\n",
       "      <td>1.00</td>\n",
       "      <td>0.000000</td>\n",
       "      <td>0</td>\n",
       "      <td>1.0</td>\n",
       "      <td>0.50</td>\n",
       "      <td>35.625493</td>\n",
       "      <td>40.002500</td>\n",
       "      <td>1.500000</td>\n",
       "      <td>60.0</td>\n",
       "      <td>87.127993</td>\n",
       "    </tr>\n",
       "    <tr>\n",
       "      <th>22951</th>\n",
       "      <td>GOA</td>\n",
       "      <td>2</td>\n",
       "      <td>RURAL</td>\n",
       "      <td>1</td>\n",
       "      <td>301</td>\n",
       "      <td>7.500000</td>\n",
       "      <td>2.50</td>\n",
       "      <td>0.125000</td>\n",
       "      <td>0</td>\n",
       "      <td>0.0</td>\n",
       "      <td>0.00</td>\n",
       "      <td>22.575320</td>\n",
       "      <td>20.005000</td>\n",
       "      <td>0.750000</td>\n",
       "      <td>60.0</td>\n",
       "      <td>53.455320</td>\n",
       "    </tr>\n",
       "    <tr>\n",
       "      <th>22952</th>\n",
       "      <td>GOA</td>\n",
       "      <td>2</td>\n",
       "      <td>RURAL</td>\n",
       "      <td>1</td>\n",
       "      <td>301</td>\n",
       "      <td>8.333333</td>\n",
       "      <td>0.00</td>\n",
       "      <td>0.166667</td>\n",
       "      <td>0</td>\n",
       "      <td>0.0</td>\n",
       "      <td>0.00</td>\n",
       "      <td>25.967018</td>\n",
       "      <td>16.673333</td>\n",
       "      <td>0.333333</td>\n",
       "      <td>60.0</td>\n",
       "      <td>51.473685</td>\n",
       "    </tr>\n",
       "    <tr>\n",
       "      <th>22953</th>\n",
       "      <td>GOA</td>\n",
       "      <td>2</td>\n",
       "      <td>RURAL</td>\n",
       "      <td>1</td>\n",
       "      <td>301</td>\n",
       "      <td>5.000000</td>\n",
       "      <td>1.75</td>\n",
       "      <td>0.000000</td>\n",
       "      <td>0</td>\n",
       "      <td>0.0</td>\n",
       "      <td>0.00</td>\n",
       "      <td>22.420334</td>\n",
       "      <td>27.505000</td>\n",
       "      <td>0.500000</td>\n",
       "      <td>60.0</td>\n",
       "      <td>57.175334</td>\n",
       "    </tr>\n",
       "  </tbody>\n",
       "</table>\n",
       "</div>"
      ],
      "text/plain": [
       "      state_1  District Sector  Region  State_Region  ricetotal_q  \\\n",
       "22949     GOA         2  RURAL       1           301     7.500000   \n",
       "22950     GOA         2  RURAL       1           301     7.500000   \n",
       "22951     GOA         2  RURAL       1           301     7.500000   \n",
       "22952     GOA         2  RURAL       1           301     8.333333   \n",
       "22953     GOA         2  RURAL       1           301     5.000000   \n",
       "\n",
       "       wheattotal_q   moong_q  Milktotal_q  chicken_q  bread_q  foodtotal_q  \\\n",
       "22949          0.75  0.000000            0        1.0     0.25    26.850600   \n",
       "22950          1.00  0.000000            0        1.0     0.50    35.625493   \n",
       "22951          2.50  0.125000            0        0.0     0.00    22.575320   \n",
       "22952          0.00  0.166667            0        0.0     0.00    25.967018   \n",
       "22953          1.75  0.000000            0        0.0     0.00    22.420334   \n",
       "\n",
       "       Beveragestotal_v  fishprawn_q  Meals_At_Home  total_consumption  \n",
       "22949         85.014500     0.750000           58.0         122.115100  \n",
       "22950         40.002500     1.500000           60.0          87.127993  \n",
       "22951         20.005000     0.750000           60.0          53.455320  \n",
       "22952         16.673333     0.333333           60.0          51.473685  \n",
       "22953         27.505000     0.500000           60.0          57.175334  "
      ]
     },
     "execution_count": 44,
     "metadata": {},
     "output_type": "execute_result"
    }
   ],
   "source": [
    "GA_clean.head()"
   ]
  },
  {
   "cell_type": "code",
   "execution_count": 45,
   "id": "21f5310f",
   "metadata": {
    "ExecuteTime": {
     "end_time": "2024-06-16T10:24:05.914207Z",
     "start_time": "2024-06-16T10:24:05.880170Z"
    }
   },
   "outputs": [
    {
     "data": {
      "text/html": [
       "<div>\n",
       "<style scoped>\n",
       "    .dataframe tbody tr th:only-of-type {\n",
       "        vertical-align: middle;\n",
       "    }\n",
       "\n",
       "    .dataframe tbody tr th {\n",
       "        vertical-align: top;\n",
       "    }\n",
       "\n",
       "    .dataframe thead tr th {\n",
       "        text-align: left;\n",
       "    }\n",
       "\n",
       "    .dataframe thead tr:last-of-type th {\n",
       "        text-align: right;\n",
       "    }\n",
       "</style>\n",
       "<table border=\"1\" class=\"dataframe\">\n",
       "  <thead>\n",
       "    <tr>\n",
       "      <th></th>\n",
       "      <th colspan=\"4\" halign=\"left\">total_consumption</th>\n",
       "    </tr>\n",
       "    <tr>\n",
       "      <th></th>\n",
       "      <th>std</th>\n",
       "      <th>mean</th>\n",
       "      <th>max</th>\n",
       "      <th>min</th>\n",
       "    </tr>\n",
       "    <tr>\n",
       "      <th>Region</th>\n",
       "      <th></th>\n",
       "      <th></th>\n",
       "      <th></th>\n",
       "      <th></th>\n",
       "    </tr>\n",
       "  </thead>\n",
       "  <tbody>\n",
       "    <tr>\n",
       "      <th>1</th>\n",
       "      <td>28.270477</td>\n",
       "      <td>56.614249</td>\n",
       "      <td>251.578147</td>\n",
       "      <td>0.0</td>\n",
       "    </tr>\n",
       "  </tbody>\n",
       "</table>\n",
       "</div>"
      ],
      "text/plain": [
       "       total_consumption                            \n",
       "                     std       mean         max  min\n",
       "Region                                              \n",
       "1              28.270477  56.614249  251.578147  0.0"
      ]
     },
     "execution_count": 45,
     "metadata": {},
     "output_type": "execute_result"
    }
   ],
   "source": [
    "GA_clean.groupby('Region').agg({'total_consumption':['std','mean','max','min']})"
   ]
  },
  {
   "cell_type": "code",
   "execution_count": 46,
   "id": "9350a8aa",
   "metadata": {
    "ExecuteTime": {
     "end_time": "2024-06-16T10:24:07.986326Z",
     "start_time": "2024-06-16T10:24:07.969988Z"
    }
   },
   "outputs": [
    {
     "data": {
      "text/html": [
       "<div>\n",
       "<style scoped>\n",
       "    .dataframe tbody tr th:only-of-type {\n",
       "        vertical-align: middle;\n",
       "    }\n",
       "\n",
       "    .dataframe tbody tr th {\n",
       "        vertical-align: top;\n",
       "    }\n",
       "\n",
       "    .dataframe thead tr th {\n",
       "        text-align: left;\n",
       "    }\n",
       "\n",
       "    .dataframe thead tr:last-of-type th {\n",
       "        text-align: right;\n",
       "    }\n",
       "</style>\n",
       "<table border=\"1\" class=\"dataframe\">\n",
       "  <thead>\n",
       "    <tr>\n",
       "      <th></th>\n",
       "      <th colspan=\"4\" halign=\"left\">total_consumption</th>\n",
       "    </tr>\n",
       "    <tr>\n",
       "      <th></th>\n",
       "      <th>std</th>\n",
       "      <th>mean</th>\n",
       "      <th>max</th>\n",
       "      <th>min</th>\n",
       "    </tr>\n",
       "    <tr>\n",
       "      <th>District</th>\n",
       "      <th></th>\n",
       "      <th></th>\n",
       "      <th></th>\n",
       "      <th></th>\n",
       "    </tr>\n",
       "  </thead>\n",
       "  <tbody>\n",
       "    <tr>\n",
       "      <th>1</th>\n",
       "      <td>31.488070</td>\n",
       "      <td>55.669657</td>\n",
       "      <td>251.578147</td>\n",
       "      <td>0.00000</td>\n",
       "    </tr>\n",
       "    <tr>\n",
       "      <th>2</th>\n",
       "      <td>24.657626</td>\n",
       "      <td>57.563277</td>\n",
       "      <td>173.194678</td>\n",
       "      <td>8.00026</td>\n",
       "    </tr>\n",
       "  </tbody>\n",
       "</table>\n",
       "</div>"
      ],
      "text/plain": [
       "         total_consumption                                \n",
       "                       std       mean         max      min\n",
       "District                                                  \n",
       "1                31.488070  55.669657  251.578147  0.00000\n",
       "2                24.657626  57.563277  173.194678  8.00026"
      ]
     },
     "execution_count": 46,
     "metadata": {},
     "output_type": "execute_result"
    }
   ],
   "source": [
    "GA_clean.groupby('District').agg({'total_consumption':['std','mean','max','min']})"
   ]
  },
  {
   "cell_type": "code",
   "execution_count": 47,
   "id": "e401d915",
   "metadata": {
    "ExecuteTime": {
     "end_time": "2024-06-16T10:24:13.578223Z",
     "start_time": "2024-06-16T10:24:13.572952Z"
    }
   },
   "outputs": [],
   "source": [
    "total_consumption_by_districtcode=GA_clean.groupby('District')['total_consumption'].sum()"
   ]
  },
  {
   "cell_type": "code",
   "execution_count": 49,
   "id": "ad3a96bd",
   "metadata": {
    "ExecuteTime": {
     "end_time": "2024-06-16T10:24:16.346448Z",
     "start_time": "2024-06-16T10:24:16.338380Z"
    }
   },
   "outputs": [
    {
     "data": {
      "text/plain": [
       "District\n",
       "2    12260.978020\n",
       "1    11913.306511\n",
       "Name: total_consumption, dtype: float64"
      ]
     },
     "execution_count": 49,
     "metadata": {},
     "output_type": "execute_result"
    }
   ],
   "source": [
    "total_consumption_by_districtcode.sort_values(ascending=False).head(2)"
   ]
  },
  {
   "cell_type": "code",
   "execution_count": 50,
   "id": "7202253b",
   "metadata": {
    "ExecuteTime": {
     "end_time": "2024-06-16T10:24:19.340120Z",
     "start_time": "2024-06-16T10:24:19.333211Z"
    }
   },
   "outputs": [],
   "source": [
    "GA_clean.loc[:,\"District\"] = GA_clean.loc[:,\"District\"].replace({1: \"North Goa\", 2: \"South Goa\"})"
   ]
  },
  {
   "cell_type": "code",
   "execution_count": 51,
   "id": "892eaac3",
   "metadata": {
    "ExecuteTime": {
     "end_time": "2024-06-16T10:24:21.218784Z",
     "start_time": "2024-06-16T10:24:21.210645Z"
    }
   },
   "outputs": [],
   "source": [
    "total_consumption_by_districtname=GA_clean.groupby('District')['total_consumption'].sum()"
   ]
  },
  {
   "cell_type": "code",
   "execution_count": 52,
   "id": "ccd48af2",
   "metadata": {
    "ExecuteTime": {
     "end_time": "2024-06-16T10:24:22.901993Z",
     "start_time": "2024-06-16T10:24:22.895026Z"
    }
   },
   "outputs": [
    {
     "data": {
      "text/plain": [
       "District\n",
       "South Goa    12260.978020\n",
       "North Goa    11913.306511\n",
       "Name: total_consumption, dtype: float64"
      ]
     },
     "execution_count": 52,
     "metadata": {},
     "output_type": "execute_result"
    }
   ],
   "source": [
    "total_consumption_by_districtname.sort_values(ascending=False).head(2)"
   ]
  },
  {
   "cell_type": "code",
   "execution_count": 53,
   "id": "f34a7ab3",
   "metadata": {
    "ExecuteTime": {
     "end_time": "2024-06-16T10:24:26.024999Z",
     "start_time": "2024-06-16T10:24:26.002237Z"
    }
   },
   "outputs": [],
   "source": [
    "from statsmodels.stats import weightstats as stests"
   ]
  },
  {
   "cell_type": "code",
   "execution_count": 54,
   "id": "7a0f3736",
   "metadata": {
    "ExecuteTime": {
     "end_time": "2024-06-16T10:24:27.312812Z",
     "start_time": "2024-06-16T10:24:27.303906Z"
    }
   },
   "outputs": [],
   "source": [
    "rural=GA_clean[GA_clean['Sector']==\"RURAL\"]\n",
    "urban=GA_clean[GA_clean['Sector']==\"URBAN\"]"
   ]
  },
  {
   "cell_type": "code",
   "execution_count": 55,
   "id": "ed868d23",
   "metadata": {
    "ExecuteTime": {
     "end_time": "2024-06-16T10:24:28.869178Z",
     "start_time": "2024-06-16T10:24:28.853238Z"
    }
   },
   "outputs": [
    {
     "data": {
      "text/html": [
       "<div>\n",
       "<style scoped>\n",
       "    .dataframe tbody tr th:only-of-type {\n",
       "        vertical-align: middle;\n",
       "    }\n",
       "\n",
       "    .dataframe tbody tr th {\n",
       "        vertical-align: top;\n",
       "    }\n",
       "\n",
       "    .dataframe thead th {\n",
       "        text-align: right;\n",
       "    }\n",
       "</style>\n",
       "<table border=\"1\" class=\"dataframe\">\n",
       "  <thead>\n",
       "    <tr style=\"text-align: right;\">\n",
       "      <th></th>\n",
       "      <th>state_1</th>\n",
       "      <th>District</th>\n",
       "      <th>Sector</th>\n",
       "      <th>Region</th>\n",
       "      <th>State_Region</th>\n",
       "      <th>ricetotal_q</th>\n",
       "      <th>wheattotal_q</th>\n",
       "      <th>moong_q</th>\n",
       "      <th>Milktotal_q</th>\n",
       "      <th>chicken_q</th>\n",
       "      <th>bread_q</th>\n",
       "      <th>foodtotal_q</th>\n",
       "      <th>Beveragestotal_v</th>\n",
       "      <th>fishprawn_q</th>\n",
       "      <th>Meals_At_Home</th>\n",
       "      <th>total_consumption</th>\n",
       "    </tr>\n",
       "  </thead>\n",
       "  <tbody>\n",
       "    <tr>\n",
       "      <th>22949</th>\n",
       "      <td>GOA</td>\n",
       "      <td>South Goa</td>\n",
       "      <td>RURAL</td>\n",
       "      <td>1</td>\n",
       "      <td>301</td>\n",
       "      <td>7.500000</td>\n",
       "      <td>0.75</td>\n",
       "      <td>0.000000</td>\n",
       "      <td>0</td>\n",
       "      <td>1.0</td>\n",
       "      <td>0.25</td>\n",
       "      <td>26.850600</td>\n",
       "      <td>85.014500</td>\n",
       "      <td>0.750000</td>\n",
       "      <td>58.0</td>\n",
       "      <td>122.115100</td>\n",
       "    </tr>\n",
       "    <tr>\n",
       "      <th>22950</th>\n",
       "      <td>GOA</td>\n",
       "      <td>South Goa</td>\n",
       "      <td>RURAL</td>\n",
       "      <td>1</td>\n",
       "      <td>301</td>\n",
       "      <td>7.500000</td>\n",
       "      <td>1.00</td>\n",
       "      <td>0.000000</td>\n",
       "      <td>0</td>\n",
       "      <td>1.0</td>\n",
       "      <td>0.50</td>\n",
       "      <td>35.625493</td>\n",
       "      <td>40.002500</td>\n",
       "      <td>1.500000</td>\n",
       "      <td>60.0</td>\n",
       "      <td>87.127993</td>\n",
       "    </tr>\n",
       "    <tr>\n",
       "      <th>22951</th>\n",
       "      <td>GOA</td>\n",
       "      <td>South Goa</td>\n",
       "      <td>RURAL</td>\n",
       "      <td>1</td>\n",
       "      <td>301</td>\n",
       "      <td>7.500000</td>\n",
       "      <td>2.50</td>\n",
       "      <td>0.125000</td>\n",
       "      <td>0</td>\n",
       "      <td>0.0</td>\n",
       "      <td>0.00</td>\n",
       "      <td>22.575320</td>\n",
       "      <td>20.005000</td>\n",
       "      <td>0.750000</td>\n",
       "      <td>60.0</td>\n",
       "      <td>53.455320</td>\n",
       "    </tr>\n",
       "    <tr>\n",
       "      <th>22952</th>\n",
       "      <td>GOA</td>\n",
       "      <td>South Goa</td>\n",
       "      <td>RURAL</td>\n",
       "      <td>1</td>\n",
       "      <td>301</td>\n",
       "      <td>8.333333</td>\n",
       "      <td>0.00</td>\n",
       "      <td>0.166667</td>\n",
       "      <td>0</td>\n",
       "      <td>0.0</td>\n",
       "      <td>0.00</td>\n",
       "      <td>25.967018</td>\n",
       "      <td>16.673333</td>\n",
       "      <td>0.333333</td>\n",
       "      <td>60.0</td>\n",
       "      <td>51.473685</td>\n",
       "    </tr>\n",
       "    <tr>\n",
       "      <th>22953</th>\n",
       "      <td>GOA</td>\n",
       "      <td>South Goa</td>\n",
       "      <td>RURAL</td>\n",
       "      <td>1</td>\n",
       "      <td>301</td>\n",
       "      <td>5.000000</td>\n",
       "      <td>1.75</td>\n",
       "      <td>0.000000</td>\n",
       "      <td>0</td>\n",
       "      <td>0.0</td>\n",
       "      <td>0.00</td>\n",
       "      <td>22.420334</td>\n",
       "      <td>27.505000</td>\n",
       "      <td>0.500000</td>\n",
       "      <td>60.0</td>\n",
       "      <td>57.175334</td>\n",
       "    </tr>\n",
       "  </tbody>\n",
       "</table>\n",
       "</div>"
      ],
      "text/plain": [
       "      state_1   District Sector  Region  State_Region  ricetotal_q  \\\n",
       "22949     GOA  South Goa  RURAL       1           301     7.500000   \n",
       "22950     GOA  South Goa  RURAL       1           301     7.500000   \n",
       "22951     GOA  South Goa  RURAL       1           301     7.500000   \n",
       "22952     GOA  South Goa  RURAL       1           301     8.333333   \n",
       "22953     GOA  South Goa  RURAL       1           301     5.000000   \n",
       "\n",
       "       wheattotal_q   moong_q  Milktotal_q  chicken_q  bread_q  foodtotal_q  \\\n",
       "22949          0.75  0.000000            0        1.0     0.25    26.850600   \n",
       "22950          1.00  0.000000            0        1.0     0.50    35.625493   \n",
       "22951          2.50  0.125000            0        0.0     0.00    22.575320   \n",
       "22952          0.00  0.166667            0        0.0     0.00    25.967018   \n",
       "22953          1.75  0.000000            0        0.0     0.00    22.420334   \n",
       "\n",
       "       Beveragestotal_v  fishprawn_q  Meals_At_Home  total_consumption  \n",
       "22949         85.014500     0.750000           58.0         122.115100  \n",
       "22950         40.002500     1.500000           60.0          87.127993  \n",
       "22951         20.005000     0.750000           60.0          53.455320  \n",
       "22952         16.673333     0.333333           60.0          51.473685  \n",
       "22953         27.505000     0.500000           60.0          57.175334  "
      ]
     },
     "execution_count": 55,
     "metadata": {},
     "output_type": "execute_result"
    }
   ],
   "source": [
    "rural.head()"
   ]
  },
  {
   "cell_type": "code",
   "execution_count": 56,
   "id": "cba3ad77",
   "metadata": {
    "ExecuteTime": {
     "end_time": "2024-06-16T10:24:31.022488Z",
     "start_time": "2024-06-16T10:24:31.001243Z"
    }
   },
   "outputs": [
    {
     "data": {
      "text/html": [
       "<div>\n",
       "<style scoped>\n",
       "    .dataframe tbody tr th:only-of-type {\n",
       "        vertical-align: middle;\n",
       "    }\n",
       "\n",
       "    .dataframe tbody tr th {\n",
       "        vertical-align: top;\n",
       "    }\n",
       "\n",
       "    .dataframe thead th {\n",
       "        text-align: right;\n",
       "    }\n",
       "</style>\n",
       "<table border=\"1\" class=\"dataframe\">\n",
       "  <thead>\n",
       "    <tr style=\"text-align: right;\">\n",
       "      <th></th>\n",
       "      <th>state_1</th>\n",
       "      <th>District</th>\n",
       "      <th>Sector</th>\n",
       "      <th>Region</th>\n",
       "      <th>State_Region</th>\n",
       "      <th>ricetotal_q</th>\n",
       "      <th>wheattotal_q</th>\n",
       "      <th>moong_q</th>\n",
       "      <th>Milktotal_q</th>\n",
       "      <th>chicken_q</th>\n",
       "      <th>bread_q</th>\n",
       "      <th>foodtotal_q</th>\n",
       "      <th>Beveragestotal_v</th>\n",
       "      <th>fishprawn_q</th>\n",
       "      <th>Meals_At_Home</th>\n",
       "      <th>total_consumption</th>\n",
       "    </tr>\n",
       "  </thead>\n",
       "  <tbody>\n",
       "    <tr>\n",
       "      <th>63731</th>\n",
       "      <td>GOA</td>\n",
       "      <td>South Goa</td>\n",
       "      <td>URBAN</td>\n",
       "      <td>1</td>\n",
       "      <td>301</td>\n",
       "      <td>6.25</td>\n",
       "      <td>0.750000</td>\n",
       "      <td>0.250</td>\n",
       "      <td>0</td>\n",
       "      <td>0.500000</td>\n",
       "      <td>0.8</td>\n",
       "      <td>21.075760</td>\n",
       "      <td>37.510000</td>\n",
       "      <td>2.250000</td>\n",
       "      <td>60.0</td>\n",
       "      <td>69.385760</td>\n",
       "    </tr>\n",
       "    <tr>\n",
       "      <th>63732</th>\n",
       "      <td>GOA</td>\n",
       "      <td>South Goa</td>\n",
       "      <td>URBAN</td>\n",
       "      <td>1</td>\n",
       "      <td>301</td>\n",
       "      <td>7.50</td>\n",
       "      <td>1.000000</td>\n",
       "      <td>0.125</td>\n",
       "      <td>0</td>\n",
       "      <td>0.250000</td>\n",
       "      <td>0.4</td>\n",
       "      <td>19.150775</td>\n",
       "      <td>37.508750</td>\n",
       "      <td>1.250000</td>\n",
       "      <td>60.0</td>\n",
       "      <td>67.184525</td>\n",
       "    </tr>\n",
       "    <tr>\n",
       "      <th>63733</th>\n",
       "      <td>GOA</td>\n",
       "      <td>South Goa</td>\n",
       "      <td>URBAN</td>\n",
       "      <td>1</td>\n",
       "      <td>301</td>\n",
       "      <td>9.00</td>\n",
       "      <td>1.200000</td>\n",
       "      <td>0.050</td>\n",
       "      <td>0</td>\n",
       "      <td>0.400000</td>\n",
       "      <td>0.0</td>\n",
       "      <td>18.410278</td>\n",
       "      <td>12.004800</td>\n",
       "      <td>0.720000</td>\n",
       "      <td>60.0</td>\n",
       "      <td>41.785078</td>\n",
       "    </tr>\n",
       "    <tr>\n",
       "      <th>63734</th>\n",
       "      <td>GOA</td>\n",
       "      <td>South Goa</td>\n",
       "      <td>URBAN</td>\n",
       "      <td>1</td>\n",
       "      <td>301</td>\n",
       "      <td>9.00</td>\n",
       "      <td>2.400000</td>\n",
       "      <td>0.500</td>\n",
       "      <td>0</td>\n",
       "      <td>0.000000</td>\n",
       "      <td>0.0</td>\n",
       "      <td>24.410256</td>\n",
       "      <td>18.000000</td>\n",
       "      <td>0.000000</td>\n",
       "      <td>60.0</td>\n",
       "      <td>54.310256</td>\n",
       "    </tr>\n",
       "    <tr>\n",
       "      <th>63735</th>\n",
       "      <td>GOA</td>\n",
       "      <td>South Goa</td>\n",
       "      <td>URBAN</td>\n",
       "      <td>1</td>\n",
       "      <td>301</td>\n",
       "      <td>10.00</td>\n",
       "      <td>1.666667</td>\n",
       "      <td>0.100</td>\n",
       "      <td>0</td>\n",
       "      <td>0.333333</td>\n",
       "      <td>0.0</td>\n",
       "      <td>24.240443</td>\n",
       "      <td>21.666667</td>\n",
       "      <td>0.953333</td>\n",
       "      <td>60.0</td>\n",
       "      <td>58.960443</td>\n",
       "    </tr>\n",
       "  </tbody>\n",
       "</table>\n",
       "</div>"
      ],
      "text/plain": [
       "      state_1   District Sector  Region  State_Region  ricetotal_q  \\\n",
       "63731     GOA  South Goa  URBAN       1           301         6.25   \n",
       "63732     GOA  South Goa  URBAN       1           301         7.50   \n",
       "63733     GOA  South Goa  URBAN       1           301         9.00   \n",
       "63734     GOA  South Goa  URBAN       1           301         9.00   \n",
       "63735     GOA  South Goa  URBAN       1           301        10.00   \n",
       "\n",
       "       wheattotal_q  moong_q  Milktotal_q  chicken_q  bread_q  foodtotal_q  \\\n",
       "63731      0.750000    0.250            0   0.500000      0.8    21.075760   \n",
       "63732      1.000000    0.125            0   0.250000      0.4    19.150775   \n",
       "63733      1.200000    0.050            0   0.400000      0.0    18.410278   \n",
       "63734      2.400000    0.500            0   0.000000      0.0    24.410256   \n",
       "63735      1.666667    0.100            0   0.333333      0.0    24.240443   \n",
       "\n",
       "       Beveragestotal_v  fishprawn_q  Meals_At_Home  total_consumption  \n",
       "63731         37.510000     2.250000           60.0          69.385760  \n",
       "63732         37.508750     1.250000           60.0          67.184525  \n",
       "63733         12.004800     0.720000           60.0          41.785078  \n",
       "63734         18.000000     0.000000           60.0          54.310256  \n",
       "63735         21.666667     0.953333           60.0          58.960443  "
      ]
     },
     "execution_count": 56,
     "metadata": {},
     "output_type": "execute_result"
    }
   ],
   "source": [
    "urban.head()"
   ]
  },
  {
   "cell_type": "code",
   "execution_count": 57,
   "id": "676b513e",
   "metadata": {
    "ExecuteTime": {
     "end_time": "2024-06-16T10:24:32.527594Z",
     "start_time": "2024-06-16T10:24:32.524253Z"
    }
   },
   "outputs": [],
   "source": [
    "cons_rural=rural['total_consumption']\n",
    "cons_urban=urban['total_consumption']"
   ]
  },
  {
   "cell_type": "code",
   "execution_count": 58,
   "id": "7e08040d",
   "metadata": {
    "ExecuteTime": {
     "end_time": "2024-06-16T10:24:33.980015Z",
     "start_time": "2024-06-16T10:24:33.970730Z"
    }
   },
   "outputs": [
    {
     "name": "stdout",
     "output_type": "stream",
     "text": [
      "Z-Score: 0.621364985086109\n",
      "P-Value: 0.5343595049803629\n"
     ]
    }
   ],
   "source": [
    "z_statistic, p_value = stests.ztest(cons_rural, cons_urban)\n",
    "# Print the z-score and p-value\n",
    "print(\"Z-Score:\", z_statistic)\n",
    "print(\"P-Value:\", p_value)"
   ]
  }
 ],
 "metadata": {
  "kernelspec": {
   "display_name": "Python 3 (ipykernel)",
   "language": "python",
   "name": "python3"
  },
  "language_info": {
   "codemirror_mode": {
    "name": "ipython",
    "version": 3
   },
   "file_extension": ".py",
   "mimetype": "text/x-python",
   "name": "python",
   "nbconvert_exporter": "python",
   "pygments_lexer": "ipython3",
   "version": "3.11.5"
  },
  "varInspector": {
   "cols": {
    "lenName": 16,
    "lenType": 16,
    "lenVar": 40
   },
   "kernels_config": {
    "python": {
     "delete_cmd_postfix": "",
     "delete_cmd_prefix": "del ",
     "library": "var_list.py",
     "varRefreshCmd": "print(var_dic_list())"
    },
    "r": {
     "delete_cmd_postfix": ") ",
     "delete_cmd_prefix": "rm(",
     "library": "var_list.r",
     "varRefreshCmd": "cat(var_dic_list()) "
    }
   },
   "types_to_exclude": [
    "module",
    "function",
    "builtin_function_or_method",
    "instance",
    "_Feature"
   ],
   "window_display": false
  }
 },
 "nbformat": 4,
 "nbformat_minor": 5
}
